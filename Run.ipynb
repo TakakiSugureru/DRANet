{
  "cells": [
    {
      "cell_type": "code",
      "execution_count": 15,
      "metadata": {
        "colab": {
          "base_uri": "https://localhost:8080/"
        },
        "id": "iz8nH57vb_1C",
        "outputId": "38dcf99d-759a-4e95-abb3-641a9ff4bd13"
      },
      "outputs": [
        {
          "name": "stdout",
          "output_type": "stream",
          "text": [
            "Drive already mounted at /content/drive; to attempt to forcibly remount, call drive.mount(\"/content/drive\", force_remount=True).\n"
          ]
        }
      ],
      "source": [
        "from google.colab import drive\n",
        "drive.mount('/content/drive')\n",
        "\n",
        "import sys\n",
        "sys.path.append('/content/drive/MyDrive/DRANet/Model')\n",
        "sys.path.append('/content/drive/MyDrive/DRANet')"
      ]
    },
    {
      "cell_type": "markdown",
      "metadata": {
        "id": "lxmtT6DxOeez"
      },
      "source": [
        "==========================================\n",
        "\n",
        "Load DATASET GAUSS\n",
        "\n",
        "=========================================="
      ]
    },
    {
      "cell_type": "code",
      "execution_count": null,
      "metadata": {
        "id": "dr0ERvCtcA1e"
      },
      "outputs": [],
      "source": [
        "from dataset import DatasetGauss\n",
        "from torch.utils.data import DataLoader\n",
        "\n",
        "dataset = DatasetGauss(\n",
        "    root_dir=\"/content/drive/MyDrive/DRANet/Data/Train/CBSD68\",\n",
        "    noise_level=\"noisy25\",\n",
        "    patch_size=128,\n",
        "    patches_per_image=10,\n",
        "    augment=True\n",
        ")\n",
        "\n",
        "train_loader = DataLoader(dataset, batch_size=4, shuffle=True, num_workers=2, pin_memory=True)"
      ]
    },
    {
      "cell_type": "markdown",
      "metadata": {
        "id": "rlPjSBf4WUKu"
      },
      "source": [
        "============TRAIN MODEL============\n"
      ]
    },
    {
      "cell_type": "code",
      "execution_count": null,
      "metadata": {
        "id": "RRmiKhyOU7pu"
      },
      "outputs": [],
      "source": [
        "import os\n",
        "import torch\n",
        "import torch.nn as nn\n",
        "import torch.optim as optim\n",
        "import torch.nn.functional as F\n",
        "from torch.utils.data import DataLoader\n",
        "from tqdm import tqdm\n",
        "from DRANet import DRANet\n",
        "from dataset import DatasetGauss\n",
        "\n",
        "# ==== PSNR CALCULATION FUNCTION ====\n",
        "def calc_psnr(output, target, max_val=1.0):\n",
        "    mse = F.mse_loss(output, target)\n",
        "    if mse == 0:\n",
        "        return float('inf')\n",
        "    return 20 * torch.log10(max_val / torch.sqrt(mse))\n",
        "\n",
        "# ==== CONFIGURATION ====\n",
        "data_root = \"/content/drive/MyDrive/DRANet/Data/Train\"\n",
        "noise_level = \"noisy25\"\n",
        "checkpoint_path = \"/content/drive/MyDrive/DRANet/Model/checkpoint_noise25.pth\"\n",
        "best_model_path = \"/content/drive/MyDrive/DRANet/Model/model_dranet_guass.pth\"\n",
        "\n",
        "batch_size = 4\n",
        "epochs = 200\n",
        "lr = 1e-4\n",
        "patch_size = 128\n",
        "patches_per_image = 10\n",
        "\n",
        "device = torch.device(\"cuda\" if torch.cuda.is_available() else \"cpu\")\n",
        "\n",
        "# ==== LOAD DATASET ====\n",
        "dataset = DatasetGauss(\n",
        "    root_dir=data_root,\n",
        "    noise_level=noise_level,\n",
        "    patch_size=patch_size,\n",
        "    patches_per_image=patches_per_image,\n",
        "    augment=True\n",
        ")\n",
        "train_loader = DataLoader(dataset, batch_size=batch_size, shuffle=True, num_workers=2, pin_memory=True)\n",
        "\n",
        "# ==== INITIALIZE MODEL ====\n",
        "model = DRANet().to(device)\n",
        "optimizer = optim.Adam(model.parameters(), lr=lr)\n",
        "scheduler = torch.optim.lr_scheduler.StepLR(optimizer, step_size=50, gamma=0.5)\n",
        "criterion = nn.MSELoss()\n",
        "\n",
        "# ==== LOAD CHECKPOINT (IF AVAILABLE) ====\n",
        "start_epoch = 0\n",
        "best_psnr = 0\n",
        "if os.path.exists(checkpoint_path):\n",
        "    checkpoint = torch.load(checkpoint_path, map_location=device)\n",
        "    model.load_state_dict(checkpoint['model_state_dict'])\n",
        "    optimizer.load_state_dict(checkpoint['optimizer_state_dict'])\n",
        "    start_epoch = checkpoint['epoch'] + 1\n",
        "    best_psnr = checkpoint['best_psnr']\n",
        "    print(f\"Resumed from epoch {start_epoch}, best PSNR: {best_psnr:.2f} dB\")\n",
        "\n",
        "# ==== TRAINING LOOP ====\n",
        "for epoch in range(start_epoch, epochs):\n",
        "    model.train()\n",
        "    train_loss = 0.0\n",
        "\n",
        "    for noisy, clean, _ in tqdm(train_loader, desc=f\"Epoch {epoch+1}/{epochs}\"):\n",
        "        noisy, clean = noisy.to(device), clean.to(device)\n",
        "        output = model(noisy)\n",
        "        loss = criterion(output, clean)\n",
        "\n",
        "        optimizer.zero_grad()\n",
        "        loss.backward()\n",
        "        optimizer.step()\n",
        "\n",
        "        train_loss += loss.item()\n",
        "\n",
        "    avg_loss = train_loss / len(train_loader)\n",
        "    print(f\"\\nEpoch {epoch+1}: Avg Train Loss = {avg_loss:.6f}\")\n",
        "\n",
        "    # ==== PSNR EVALUATION ====\n",
        "    model.eval()\n",
        "    total_psnr = 0.0\n",
        "    with torch.no_grad():\n",
        "        for noisy, clean, _ in train_loader:\n",
        "            noisy, clean = noisy.to(device), clean.to(device)\n",
        "            output = model(noisy)\n",
        "            total_psnr += calc_psnr(output, clean).item()\n",
        "\n",
        "    avg_psnr = total_psnr / len(train_loader)\n",
        "    print(f\"Avg PSNR: {avg_psnr:.2f} dB\")\n",
        "\n",
        "    # ==== SAVE BEST MODEL ====\n",
        "    if avg_psnr > best_psnr:\n",
        "        best_psnr = avg_psnr\n",
        "        torch.save(model.state_dict(), best_model_path)\n",
        "        print(\"Best model saved.\\n\")\n",
        "\n",
        "    # ==== SAVE CHECKPOINT ====\n",
        "    torch.save({\n",
        "        'epoch': epoch,\n",
        "        'model_state_dict': model.state_dict(),\n",
        "        'optimizer_state_dict': optimizer.state_dict(),\n",
        "        'best_psnr': best_psnr\n",
        "    }, checkpoint_path)\n",
        "\n",
        "    # ==== STEP SCHEDULER ====\n",
        "    scheduler.step()"
      ]
    },
    {
      "cell_type": "markdown",
      "metadata": {
        "id": "yf8JzqybUwPC"
      },
      "source": [
        "Create image noise"
      ]
    },
    {
      "cell_type": "code",
      "execution_count": null,
      "metadata": {
        "id": "w7x_EdprUvpT"
      },
      "outputs": [],
      "source": [
        "import os\n",
        "from pathlib import Path\n",
        "from PIL import Image\n",
        "import torch\n",
        "import torchvision.transforms.functional as TF\n",
        "\n",
        "# ===== PARAMETERS =====\n",
        "clean_dir = Path('/content/drive/MyDrive/DRANet/Data/Test/Clean')         # Load folder containing clean images\n",
        "noisy_dir = Path('/content/drive/MyDrive/DRANet/Data/Test/Noise')         # Save folder for noisy images\n",
        "sigma = 25\n",
        "noisy_dir.mkdir(parents=True, exist_ok=True)  # Create folder if it doesn't exist\n",
        "\n",
        "# ===== ADD NOISE =====\n",
        "for clean_path in clean_dir.glob(\"*.*\"):\n",
        "    try:\n",
        "        # Load clean image\n",
        "        clean_img = Image.open(clean_path).convert(\"RGB\")\n",
        "        clean_tensor = TF.to_tensor(clean_img)\n",
        "\n",
        "        # Generate Gaussian noise\n",
        "        noise = torch.randn_like(clean_tensor) * (sigma / 255.0)\n",
        "        noisy_tensor = torch.clamp(clean_tensor + noise, 0.0, 1.0)\n",
        "\n",
        "        # Save noisy image\n",
        "        noisy_img = TF.to_pil_image(noisy_tensor)\n",
        "        save_path = noisy_dir / clean_path.name\n",
        "        noisy_img.save(save_path)\n",
        "\n",
        "        print(f\"Noisy image created: {save_path.name}\")\n",
        "    except Exception as e:\n",
        "        print(f\"Error with image {clean_path.name}: {e}\")"
      ]
    },
    {
      "cell_type": "markdown",
      "metadata": {
        "id": "tKkfRInNdRN5"
      },
      "source": [
        "===============TEST===============\n",
        "\n",
        "Option 1: Denoise all images in a folder"
      ]
    },
    {
      "cell_type": "code",
      "execution_count": null,
      "metadata": {
        "id": "w_NwrUoRV-kc"
      },
      "outputs": [],
      "source": [
        "%cd /content/drive/MyDrive/DRANet/Model\n",
        "!python test.py"
      ]
    },
    {
      "cell_type": "markdown",
      "metadata": {
        "id": "VGi5MuZ1T_3J"
      },
      "source": [
        "Option 2: Filter specific image noise, show PSNR and SSID"
      ]
    },
    {
      "cell_type": "code",
      "execution_count": null,
      "metadata": {
        "id": "EnPTyViMTMW7"
      },
      "outputs": [],
      "source": [
        "import torch\n",
        "import torchvision.transforms.functional as TF\n",
        "from PIL import Image\n",
        "import matplotlib.pyplot as plt\n",
        "from skimage.metrics import structural_similarity as compare_ssim\n",
        "import numpy as np\n",
        "from DRANet import DRANet\n",
        "\n",
        "# ==== CẤU HÌNH ====\n",
        "model_path = \"/content/drive/MyDrive/DRANet/Model/model_dranet_guass.pth\"\n",
        "noisy_path = \"/content/drive/MyDrive/DRANet/Data/Test/Noise/huou.jpg\"\n",
        "clean_path = \"/content/drive/MyDrive/DRANet/Data/Test/Clean/huou.jpg\"\n",
        "\n",
        "# ==== LOAD IMAGE ====\n",
        "noisy_img = Image.open(noisy_path).convert('RGB')\n",
        "clean_img = Image.open(clean_path).convert('RGB') if clean_path else None\n",
        "\n",
        "noisy_tensor = TF.to_tensor(noisy_img).unsqueeze(0)\n",
        "clean_tensor = TF.to_tensor(clean_img).unsqueeze(0) if clean_img else None\n",
        "\n",
        "# ==== LOAD MODEL ====\n",
        "device = torch.device(\"cuda\" if torch.cuda.is_available() else \"cpu\")\n",
        "model = DRANet().to(device)\n",
        "model.load_state_dict(torch.load(model_path, map_location=device))\n",
        "model.eval()\n",
        "\n",
        "# ==== FILTER ====\n",
        "with torch.no_grad():\n",
        "    output_tensor = model(noisy_tensor.to(device)).clamp(0, 1).cpu()\n",
        "\n",
        "# ==== PSNR & SSIM ====\n",
        "def calc_psnr(img1, img2):\n",
        "    mse = torch.mean((img1 - img2) ** 2)\n",
        "    return 20 * torch.log10(1.0 / torch.sqrt(mse))\n",
        "\n",
        "def calc_ssim(img1, img2):\n",
        "    img1_np = img1.squeeze(0).permute(1, 2, 0).numpy()\n",
        "    img2_np = img2.squeeze(0).permute(1, 2, 0).numpy()\n",
        "    return compare_ssim(img1_np, img2_np, channel_axis=2, data_range=1.0)\n",
        "\n",
        "if clean_tensor is not None:\n",
        "    psnr = calc_psnr(output_tensor, clean_tensor)\n",
        "    ssim = calc_ssim(output_tensor, clean_tensor)\n",
        "else:\n",
        "    psnr, ssim = None, None\n",
        "\n",
        "# ==== SHOW ====\n",
        "plt.figure(figsize=(12, 5))\n",
        "plt.subplot(1, 2, 1)\n",
        "plt.imshow(noisy_img)\n",
        "plt.title(\"Noisy\")\n",
        "plt.axis('off')\n",
        "\n",
        "plt.subplot(1, 2, 2)\n",
        "plt.imshow(TF.to_pil_image(output_tensor.squeeze(0)))\n",
        "title = f\"Denoised\\nPSNR: {psnr:.2f} dB, SSIM: {ssim:.3f}\" if psnr else \"Denoised\"\n",
        "plt.title(title)\n",
        "plt.axis('off')\n",
        "plt.tight_layout()\n",
        "plt.show()\n"
      ]
    }
  ],
  "metadata": {
    "accelerator": "GPU",
    "colab": {
      "gpuType": "T4",
      "provenance": []
    },
    "kernelspec": {
      "display_name": "Python 3",
      "name": "python3"
    },
    "language_info": {
      "name": "python"
    }
  },
  "nbformat": 4,
  "nbformat_minor": 0
}
